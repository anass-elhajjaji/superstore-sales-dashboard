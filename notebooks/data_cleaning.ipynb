{
 "cells": [
  {
   "cell_type": "code",
   "execution_count": 1,
   "id": "21fc3d58",
   "metadata": {},
   "outputs": [],
   "source": [
    "import pandas as pd\n",
    "import matplotlib.pyplot as plt\n",
    "import seaborn as sns\n",
    "import numpy as np"
   ]
  },
  {
   "cell_type": "code",
   "execution_count": 14,
   "metadata": {},
   "outputs": [
    {
     "name": "stderr",
     "output_type": "stream",
     "text": [
      "<>:1: SyntaxWarning: invalid escape sequence '\\O'\n",
      "<>:1: SyntaxWarning: invalid escape sequence '\\O'\n",
      "C:\\Users\\pc\\AppData\\Local\\Temp\\ipykernel_20892\\1573606858.py:1: SyntaxWarning: invalid escape sequence '\\O'\n",
      "  df = pd.read_csv(\"C:\\\\Users\\\\pc\\OneDrive\\\\Desktop\\\\Sales Analysis\\\\data\\\\SuperStore_Sales_Dataset.csv\")\n"
     ]
    }
   ],
   "source": [
    "df = pd.read_csv(\"C:\\\\Users\\\\pc\\OneDrive\\\\Desktop\\\\Sales Analysis\\\\data\\\\SuperStore_Sales_Dataset.csv\")\n"
   ]
  },
  {
   "cell_type": "code",
   "execution_count": 15,
   "metadata": {},
   "outputs": [
    {
     "name": "stdout",
     "output_type": "stream",
     "text": [
      "Dataset preview:\n",
      "   Row ID+O6G3A1:R6        Order ID  Order Date   Ship Date       Ship Mode  \\\n",
      "0              4918  CA-2019-160304  01-01-2019  07-01-2019  Standard Class   \n",
      "1              4919  CA-2019-160304  02-01-2019  07-01-2019  Standard Class   \n",
      "2              4920  CA-2019-160304  02-01-2019  07-01-2019  Standard Class   \n",
      "3              3074  CA-2019-125206  03-01-2019  05-01-2019     First Class   \n",
      "4              8604  US-2019-116365  03-01-2019  08-01-2019  Standard Class   \n",
      "\n",
      "  Customer ID      Customer Name    Segment        Country          City  ...  \\\n",
      "0    BM-11575      Brendan Murry  Corporate  United States  Gaithersburg  ...   \n",
      "1    BM-11575      Brendan Murry  Corporate  United States  Gaithersburg  ...   \n",
      "2    BM-11575      Brendan Murry  Corporate  United States  Gaithersburg  ...   \n",
      "3    LR-16915       Lena Radford   Consumer  United States   Los Angeles  ...   \n",
      "4    CA-12310  Christine Abelman  Corporate  United States   San Antonio  ...   \n",
      "\n",
      "          Category Sub-Category  \\\n",
      "0        Furniture    Bookcases   \n",
      "1        Furniture    Bookcases   \n",
      "2       Technology       Phones   \n",
      "3  Office Supplies      Storage   \n",
      "4       Technology  Accessories   \n",
      "\n",
      "                                        Product Name   Sales Quantity  \\\n",
      "0  Bush Westfield Collection Bookcases, Medium Ch...   73.94        1   \n",
      "1  Bush Westfield Collection Bookcases, Medium Ch...  173.94        3   \n",
      "2                                        GE 30522EE2  231.98        2   \n",
      "3  Recycled Steel Personal File for Hanging File ...  114.46        2   \n",
      "4                Imation Clip USB flash drive - 8 GB   30.08        2   \n",
      "\n",
      "    Profit  Returns  Payment Mode  ind1  ind2  \n",
      "0  28.2668      NaN        Online   NaN   NaN  \n",
      "1  38.2668      NaN        Online   NaN   NaN  \n",
      "2  67.2742      NaN         Cards   NaN   NaN  \n",
      "3  28.6150      NaN        Online   NaN   NaN  \n",
      "4  -5.2640      NaN        Online   NaN   NaN  \n",
      "\n",
      "[5 rows x 23 columns]\n"
     ]
    }
   ],
   "source": [
    "# Display the first 5 rows of the dataset\n",
    "print(\"Dataset preview:\")\n",
    "print(df.head())"
   ]
  },
  {
   "cell_type": "code",
   "execution_count": 16,
   "metadata": {},
   "outputs": [
    {
     "name": "stdout",
     "output_type": "stream",
     "text": [
      "\n",
      "General information:\n",
      "<class 'pandas.core.frame.DataFrame'>\n",
      "RangeIndex: 5901 entries, 0 to 5900\n",
      "Data columns (total 23 columns):\n",
      " #   Column            Non-Null Count  Dtype  \n",
      "---  ------            --------------  -----  \n",
      " 0   Row ID+O6G3A1:R6  5901 non-null   int64  \n",
      " 1   Order ID          5901 non-null   object \n",
      " 2   Order Date        5901 non-null   object \n",
      " 3   Ship Date         5901 non-null   object \n",
      " 4   Ship Mode         5901 non-null   object \n",
      " 5   Customer ID       5901 non-null   object \n",
      " 6   Customer Name     5901 non-null   object \n",
      " 7   Segment           5901 non-null   object \n",
      " 8   Country           5901 non-null   object \n",
      " 9   City              5901 non-null   object \n",
      " 10  State             5901 non-null   object \n",
      " 11  Region            5901 non-null   object \n",
      " 12  Product ID        5901 non-null   object \n",
      " 13  Category          5901 non-null   object \n",
      " 14  Sub-Category      5901 non-null   object \n",
      " 15  Product Name      5901 non-null   object \n",
      " 16  Sales             5901 non-null   float64\n",
      " 17  Quantity          5901 non-null   int64  \n",
      " 18  Profit            5901 non-null   float64\n",
      " 19  Returns           287 non-null    float64\n",
      " 20  Payment Mode      5901 non-null   object \n",
      " 21  ind1              0 non-null      float64\n",
      " 22  ind2              0 non-null      float64\n",
      "dtypes: float64(5), int64(2), object(16)\n",
      "memory usage: 1.0+ MB\n",
      "None\n"
     ]
    }
   ],
   "source": [
    "# Display general information about the dataset (columns, data types, non-null values)\n",
    "print(\"\\nGeneral information:\")\n",
    "print(df.info())\n"
   ]
  },
  {
   "cell_type": "code",
   "execution_count": 18,
   "id": "6b69a5ac",
   "metadata": {},
   "outputs": [
    {
     "name": "stdout",
     "output_type": "stream",
     "text": [
      "\n",
      "Missing values per column (after dropping null-only columns):\n",
      "Row ID+O6G3A1:R6       0\n",
      "Order ID               0\n",
      "Order Date             0\n",
      "Ship Date              0\n",
      "Ship Mode              0\n",
      "Customer ID            0\n",
      "Customer Name          0\n",
      "Segment                0\n",
      "Country                0\n",
      "City                   0\n",
      "State                  0\n",
      "Region                 0\n",
      "Product ID             0\n",
      "Category               0\n",
      "Sub-Category           0\n",
      "Product Name           0\n",
      "Sales                  0\n",
      "Quantity               0\n",
      "Profit                 0\n",
      "Returns             5614\n",
      "Payment Mode           0\n",
      "ind1                5901\n",
      "ind2                5901\n",
      "dtype: int64\n"
     ]
    }
   ],
   "source": [
    "# 2. Check missing values per column after dropping\n",
    "print(\"\\nMissing values per column (after dropping null-only columns):\")\n",
    "print(df.isnull().sum())"
   ]
  },
  {
   "cell_type": "code",
   "execution_count": 26,
   "metadata": {},
   "outputs": [
    {
     "name": "stdout",
     "output_type": "stream",
     "text": [
      "      Row ID+O6G3A1:R6        Order ID  Order Date   Ship Date  \\\n",
      "0                 4918  CA-2019-160304  01-01-2019  07-01-2019   \n",
      "1                 4919  CA-2019-160304  02-01-2019  07-01-2019   \n",
      "2                 4920  CA-2019-160304  02-01-2019  07-01-2019   \n",
      "3                 3074  CA-2019-125206  03-01-2019  05-01-2019   \n",
      "4                 8604  US-2019-116365  03-01-2019  08-01-2019   \n",
      "...                ...             ...         ...         ...   \n",
      "5896               907  CA-2020-143259  30-12-2020  03-01-2021   \n",
      "5897              1297  CA-2020-115427  30-12-2020  03-01-2021   \n",
      "5898              5092  CA-2020-156720  30-12-2020  03-01-2021   \n",
      "5899               909  CA-2020-143259  30-12-2020  03-01-2021   \n",
      "5900              5093  CA-2020-151450  31-12-2020  04-01-2021   \n",
      "\n",
      "           Ship Mode Customer ID      Customer Name    Segment        Country  \\\n",
      "0     Standard Class    BM-11575      Brendan Murry  Corporate  United States   \n",
      "1     Standard Class    BM-11575      Brendan Murry  Corporate  United States   \n",
      "2     Standard Class    BM-11575      Brendan Murry  Corporate  United States   \n",
      "3        First Class    LR-16915       Lena Radford   Consumer  United States   \n",
      "4     Standard Class    CA-12310  Christine Abelman  Corporate  United States   \n",
      "...              ...         ...                ...        ...            ...   \n",
      "5896  Standard Class    PO-18865  Patrick O'Donnell   Consumer  United States   \n",
      "5897  Standard Class    EB-13975         Erica Bern  Corporate  United States   \n",
      "5898  Standard Class    JM-15580      Jill Matthias   Consumer  United States   \n",
      "5899  Standard Class    PO-18865  Patrick O'Donnell   Consumer  United States   \n",
      "5900  Standard Class    JM-15580      Jill Matthias   Consumer  United States   \n",
      "\n",
      "               City  ...   Region       Product ID         Category  \\\n",
      "0      Gaithersburg  ...     East  FUR-BO-10004709        Furniture   \n",
      "1      Gaithersburg  ...     East  FUR-BO-10004709        Furniture   \n",
      "2      Gaithersburg  ...     East  TEC-PH-10000455       Technology   \n",
      "3       Los Angeles  ...     West  OFF-ST-10003692  Office Supplies   \n",
      "4       San Antonio  ...  Central  TEC-AC-10002217       Technology   \n",
      "...             ...  ...      ...              ...              ...   \n",
      "5896  New York City  ...     East  FUR-BO-10003441        Furniture   \n",
      "5897      Fairfield  ...     West  OFF-BI-10002103  Office Supplies   \n",
      "5898       Loveland  ...     West  OFF-FA-10003472  Office Supplies   \n",
      "5899  New York City  ...     East  OFF-BI-10003684  Office Supplies   \n",
      "5900       Loveland  ...     West  OFF-FA-10003472  Office Supplies   \n",
      "\n",
      "     Sub-Category                                       Product Name  \\\n",
      "0       Bookcases  Bush Westfield Collection Bookcases, Medium Ch...   \n",
      "1       Bookcases  Bush Westfield Collection Bookcases, Medium Ch...   \n",
      "2          Phones                                        GE 30522EE2   \n",
      "3         Storage  Recycled Steel Personal File for Hanging File ...   \n",
      "4     Accessories                Imation Clip USB flash drive - 8 GB   \n",
      "...           ...                                                ...   \n",
      "5896    Bookcases  Bush Westfield Collection Bookcases, Fully Ass...   \n",
      "5897      Binders    Cardinal Slant-D Ring Binder, Heavy Gauge Vinyl   \n",
      "5898    Fasteners                                Bagged Rubber Bands   \n",
      "5899      Binders               Wilson Jones Legal Size Ring Binders   \n",
      "5900    Fasteners                                Bagged Rubber Bands   \n",
      "\n",
      "         Sales  Quantity   Profit  Returns  Payment Mode  \n",
      "0       73.940         1  28.2668      0.0        Online  \n",
      "1      173.940         3  38.2668      0.0        Online  \n",
      "2      231.980         2  67.2742      0.0         Cards  \n",
      "3      114.460         2  28.6150      0.0        Online  \n",
      "4       30.080         2  -5.2640      0.0        Online  \n",
      "...        ...       ...      ...      ...           ...  \n",
      "5896   213.136         4  12.1176      0.0           COD  \n",
      "5897   295.904         2   4.5188      1.0        Online  \n",
      "5898   388.024         3  -0.6048      0.0        Online  \n",
      "5899   462.776         3  19.7910      0.0           COD  \n",
      "5900  2975.510         3  -0.6048      0.0           COD  \n",
      "\n",
      "[5901 rows x 21 columns]\n"
     ]
    }
   ],
   "source": [
    "# Drop columns 'in1' and 'in2' if elles existent\n",
    "df = df.drop(columns=['ind1', 'ind2'], errors='ignore')\n",
    "print(df)"
   ]
  },
  {
   "cell_type": "code",
   "execution_count": 27,
   "id": "7c653f16",
   "metadata": {},
   "outputs": [],
   "source": [
    "# Replace all NaN values by 0\n",
    "df = df.fillna(0)"
   ]
  },
  {
   "cell_type": "code",
   "execution_count": 28,
   "id": "afe20228",
   "metadata": {},
   "outputs": [
    {
     "name": "stdout",
     "output_type": "stream",
     "text": [
      "Missing values per column after replacing NaN by 0:\n",
      "Row ID+O6G3A1:R6    0\n",
      "Order ID            0\n",
      "Order Date          0\n",
      "Ship Date           0\n",
      "Ship Mode           0\n",
      "Customer ID         0\n",
      "Customer Name       0\n",
      "Segment             0\n",
      "Country             0\n",
      "City                0\n",
      "State               0\n",
      "Region              0\n",
      "Product ID          0\n",
      "Category            0\n",
      "Sub-Category        0\n",
      "Product Name        0\n",
      "Sales               0\n",
      "Quantity            0\n",
      "Profit              0\n",
      "Returns             0\n",
      "Payment Mode        0\n",
      "dtype: int64\n"
     ]
    }
   ],
   "source": [
    "# Vérification : afficher le nombre de valeurs manquantes restantes (doit être 0)\n",
    "print(\"Missing values per column after replacing NaN by 0:\")\n",
    "print(df.isnull().sum())"
   ]
  },
  {
   "cell_type": "code",
   "execution_count": 29,
   "id": "0e4cc7c7",
   "metadata": {},
   "outputs": [
    {
     "data": {
      "image/png": "[encoded data removed]",
      "text/plain": [
       "<Figure size 1000x600 with 2 Axes>"
      ]
     },
     "metadata": {},
     "output_type": "display_data"
    }
   ],
   "source": [
    "\n",
    "columns_to_use = df.columns.difference(['in1', 'in2'])\n",
    "\n",
    "plt.figure(figsize=(10, 6))\n",
    "sns.heatmap(df[columns_to_use].corr(numeric_only=True), annot=True, cmap=\"coolwarm\")\n",
    "plt.title(\"Correlation Heatmap (Cleaned Data, without 'in1' and 'in2')\")\n",
    "plt.tight_layout()\n",
    "plt.show()"
   ]
  },
  {
   "cell_type": "code",
   "execution_count": null,
   "id": "70d47ba8",
   "metadata": {},
   "outputs": [],
   "source": []
  }
 ],
 "metadata": {
  "kernelspec": {
   "display_name": "Python 3",
   "language": "python",
   "name": "python3"
  },
  "language_info": {
   "codemirror_mode": {
    "name": "ipython",
    "version": 3
   },
   "file_extension": ".py",
   "mimetype": "text/x-python",
   "name": "python",
   "nbconvert_exporter": "python",
   "pygments_lexer": "ipython3",
   "version": "3.12.1"
  }
 },
 "nbformat": 4,
 "nbformat_minor": 5
}
